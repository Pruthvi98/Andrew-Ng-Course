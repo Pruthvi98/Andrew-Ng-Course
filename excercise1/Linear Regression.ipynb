{
 "cells": [
  {
   "cell_type": "code",
   "execution_count": 1,
   "metadata": {},
   "outputs": [],
   "source": [
    "import numpy as np\n",
    "import matplotlib.pyplot as plt"
   ]
  },
  {
   "cell_type": "code",
   "execution_count": 2,
   "metadata": {},
   "outputs": [],
   "source": [
    "data = np.loadtxt(\"ex1data2.txt\", delimiter = ',', usecols=(0,1,2), unpack = True)"
   ]
  },
  {
   "cell_type": "code",
   "execution_count": 3,
   "metadata": {},
   "outputs": [],
   "source": [
    "X = np.transpose(np.array(data[:-1]))      #X->[m,n]\n",
    "Y = np.transpose(np.array(data[-1:]))      #Y->[m,1]\n",
    "X = np.insert(X,0,1, axis = 1)             #X->[m,n+1]\n",
    "means = []\n",
    "stds = []\n",
    "Xnorm = X.copy()\n",
    "X.shape[1]\n",
    "for j in range(X.shape[1]):\n",
    "    means.append(np.mean(Xnorm[:,j]))\n",
    "    stds.append(np.std(Xnorm[:,j]))\n",
    "    if not j: continue\n",
    "    Xnorm[:,j] = (X[:,j] - means[-1])/stds[-1]"
   ]
  },
  {
   "cell_type": "code",
   "execution_count": 4,
   "metadata": {},
   "outputs": [],
   "source": [
    "def hValue(Xnorm,theta):\n",
    "    return np.dot(Xnorm,theta)\n",
    "\n",
    "def costValue(Xnorm,y,theta):\n",
    "    m = Xnorm.shape[0]\n",
    "    return (1/(2*m))*np.sum(((hValue(Xnorm,theta)-y).T).dot(hValue(Xnorm,theta)-y))\n",
    "\n",
    "def grDesc(Xnorm, y,initial_theta, iterations, alpha):\n",
    "    oldTheta = initial_theta   \n",
    "    m = Xnorm.shape[0]\n",
    "    jvec=[]\n",
    "    for i in range(iterations):\n",
    "        newTheta = oldTheta\n",
    "        jvec.append(costValue(Xnorm,y,newTheta))\n",
    "        for j in range(len(oldTheta)):\n",
    "            newTheta[j][0] = oldTheta[j][0] - (alpha/m)*np.sum((hValue(Xnorm,oldTheta).reshape(m,1)-y)*Xnorm[:,j].reshape(m,1))\n",
    "        oldTheta = newTheta\n",
    "    return newTheta, jvec"
   ]
  },
  {
   "cell_type": "code",
   "execution_count": 5,
   "metadata": {},
   "outputs": [
    {
     "name": "stdout",
     "output_type": "stream",
     "text": [
      "(3, 1)\n",
      "[[340412.56301439]\n",
      " [109371.67272252]\n",
      " [ -6502.3992545 ]]\n"
     ]
    }
   ],
   "source": [
    "initialTheta = np.zeros((Xnorm.shape[1],1))\n",
    "print(initialTheta.shape)\n",
    "theta, jvec = grDesc(Xnorm, Y, initialTheta, 1500, 0.01)\n",
    "print(theta)"
   ]
  },
  {
   "cell_type": "code",
   "execution_count": 6,
   "metadata": {},
   "outputs": [
    {
     "data": {
      "text/plain": [
       "[<matplotlib.lines.Line2D at 0x202e1baf518>]"
      ]
     },
     "execution_count": 6,
     "metadata": {},
     "output_type": "execute_result"
    },
    {
     "data": {
      "image/png": "[encoded data removed]",
      "text/plain": [
       "<Figure size 720x432 with 1 Axes>"
      ]
     },
     "metadata": {},
     "output_type": "display_data"
    }
   ],
   "source": [
    "plt.figure(figsize=(10,6))\n",
    "plt.plot(range(len(jvec)),jvec,'ro')\n"
   ]
  },
  {
   "cell_type": "code",
   "execution_count": 7,
   "metadata": {},
   "outputs": [
    {
     "name": "stdout",
     "output_type": "stream",
     "text": [
      "[293098.14924754]\n"
     ]
    }
   ],
   "source": [
    "inp = np.array([1650.,3.])\n",
    "value = ([((inp[x] - means[x+1])/stds[x+1]) for x in range(len(inp))])\n",
    "value.insert(0,1)\n",
    "print(hValue(value,theta))"
   ]
  },
  {
   "cell_type": "code",
   "execution_count": null,
   "metadata": {},
   "outputs": [],
   "source": []
  },
  {
   "cell_type": "code",
   "execution_count": null,
   "metadata": {},
   "outputs": [],
   "source": []
  }
 ],
 "metadata": {
  "kernelspec": {
   "display_name": "Python 3",
   "language": "python",
   "name": "python3"
  },
  "language_info": {
   "codemirror_mode": {
    "name": "ipython",
    "version": 3
   },
   "file_extension": ".py",
   "mimetype": "text/x-python",
   "name": "python",
   "nbconvert_exporter": "python",
   "pygments_lexer": "ipython3",
   "version": "3.6.5"
  }
 },
 "nbformat": 4,
 "nbformat_minor": 2
}
